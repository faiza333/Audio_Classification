{
  "cells": [
    {
      "cell_type": "markdown",
      "metadata": {
        "id": "HRq2gUc3h8_6"
      },
      "source": [
        "# 1. Import and Install Dependencies\n",
        "# 1.1 Install Dependencies"
      ]
    },
    {
      "cell_type": "code",
      "execution_count": null,
      "metadata": {
        "id": "65cShiw_O2XJ"
      },
      "outputs": [],
      "source": [
        "!pip install tensorflow_io==0.23.0\n",
        "import tensorflow_io as tfio"
      ]
    },
    {
      "cell_type": "code",
      "execution_count": null,
      "metadata": {
        "id": "1vf_F1K9PCyu"
      },
      "outputs": [],
      "source": [
        "!pip install opendatasets"
      ]
    },
    {
      "cell_type": "code",
      "execution_count": null,
      "metadata": {
        "id": "80v7X3Zwed12"
      },
      "outputs": [],
      "source": [
        "!pip install tensorflow==2.4.1 tensorflow-gpu==2.4.1"
      ]
    },
    {
      "cell_type": "code",
      "execution_count": 5,
      "metadata": {
        "id": "mWXm1OTkd8Ik"
      },
      "outputs": [],
      "source": [
        "import os\n",
        "from matplotlib import pyplot as plt\n",
        "import tensorflow as tf \n",
        "import opendatasets as od"
      ]
    },
    {
      "cell_type": "markdown",
      "metadata": {
        "id": "B9_9sHgdkwLU"
      },
      "source": [
        "# Dawnload files"
      ]
    },
    {
      "cell_type": "code",
      "execution_count": null,
      "metadata": {
        "id": "97KEgVq1ft3i"
      },
      "outputs": [],
      "source": [
        "od.download(\"https://www.kaggle.com/datasets/kenjee/z-by-hp-unlocked-challenge-3-signal-processing\")"
      ]
    },
    {
      "cell_type": "code",
      "execution_count": 7,
      "metadata": {
        "id": "y8ZpCQ-tfxX_"
      },
      "outputs": [],
      "source": [
        "voi_file = os.path.join(\"/content/z-by-hp-unlocked-challenge-3-signal-processing/Parsed_Capuchinbird_Clips/XC114131-0.wav\")\n",
        "voi_file_no = os.path.join(\"/content/z-by-hp-unlocked-challenge-3-signal-processing/Parsed_Not_Capuchinbird_Clips/Crickets-chirping-1.wav\")"
      ]
    },
    {
      "cell_type": "code",
      "execution_count": 8,
      "metadata": {
        "colab": {
          "base_uri": "https://localhost:8080/",
          "height": 37
        },
        "id": "aRG1B52YkIWt",
        "outputId": "6bb4ef95-6286-454f-9461-cc73713173b0"
      },
      "outputs": [
        {
          "output_type": "execute_result",
          "data": {
            "text/plain": [
              "'/content/z-by-hp-unlocked-challenge-3-signal-processing/Parsed_Capuchinbird_Clips/XC114131-0.wav'"
            ],
            "application/vnd.google.colaboratory.intrinsic+json": {
              "type": "string"
            }
          },
          "metadata": {},
          "execution_count": 8
        }
      ],
      "source": [
        "voi_file"
      ]
    },
    {
      "cell_type": "code",
      "execution_count": 9,
      "metadata": {
        "id": "Zlmi1MGHkqwB"
      },
      "outputs": [],
      "source": [
        "def load_wav_16k_mono(filename):\n",
        "    # Load encoded wav file\n",
        "    file_contents = tf.io.read_file(filename)\n",
        "    # Decode wav (tensors by channels) \n",
        "    wav, sample_rate = tf.audio.decode_wav(file_contents, desired_channels=1)\n",
        "    # Removes trailing axis\n",
        "    wav = tf.squeeze(wav, axis=-1)\n",
        "    sample_rate = tf.cast(sample_rate, dtype=tf.int64)\n",
        "    # Goes from 44100Hz to 16000hz - amplitude of the audio signal\n",
        "    wav = tfio.audio.resample(wav, rate_in=sample_rate, rate_out=16000)\n",
        "    return wav"
      ]
    },
    {
      "cell_type": "code",
      "execution_count": null,
      "metadata": {
        "id": "Eszw7DFLncK2"
      },
      "outputs": [],
      "source": [
        "wave = load_wav_16k_mono(voi_file)\n",
        "nwave = load_wav_16k_mono(voi_file_no)"
      ]
    },
    {
      "cell_type": "code",
      "execution_count": 11,
      "metadata": {
        "colab": {
          "base_uri": "https://localhost:8080/",
          "height": 265
        },
        "id": "a9Ta-ku-oUxS",
        "outputId": "92fe54d1-f368-4e6c-b289-fcb18f5ec841"
      },
      "outputs": [
        {
          "output_type": "display_data",
          "data": {
            "text/plain": [
              "<Figure size 432x288 with 1 Axes>"
            ],
            "image/png": "[encoded data removed]"
          },
          "metadata": {
            "needs_background": "light"
          }
        }
      ],
      "source": [
        "plt.plot(wave)\n",
        "plt.plot(nwave)\n",
        "plt.show()\n",
        "#the blue is for capuchin bird and the orange one for not capuchin"
      ]
    },
    {
      "cell_type": "markdown",
      "metadata": {
        "id": "0cNmIn1zyeDo"
      },
      "source": [
        "# Transforming the waves into spectogram\n",
        "- What is a spectrogram in audio?\n",
        "A spectrogram is a visual way of representing the signal strength, or “loudness”, of a signal over time at various frequencies present in a particular waveform"
      ]
    },
    {
      "cell_type": "markdown",
      "metadata": {
        "id": "EeQeJue1y_wQ"
      },
      "source": [
        "# 3. Create Tensorflow Dataset\n",
        "\n",
        "# 3.1 Define Paths to Positive and Negative Data"
      ]
    },
    {
      "cell_type": "code",
      "execution_count": 12,
      "metadata": {
        "id": "m4-A-bcLutko"
      },
      "outputs": [],
      "source": [
        "POS = os.path.join(\"/content/z-by-hp-unlocked-challenge-3-signal-processing/Parsed_Capuchinbird_Clips\")\n",
        "NEG = os.path.join(\"/content/z-by-hp-unlocked-challenge-3-signal-processing/Parsed_Not_Capuchinbird_Clips\")"
      ]
    },
    {
      "cell_type": "markdown",
      "metadata": {
        "id": "540n2HndzYOI"
      },
      "source": [
        "# 3.2 Create Tensorflow Datasets"
      ]
    },
    {
      "cell_type": "code",
      "execution_count": 13,
      "metadata": {
        "id": "5RQVbGYCzVH4"
      },
      "outputs": [],
      "source": [
        "pos = tf.data.Dataset.list_files(POS+'/*.wav')\n",
        "neg = tf.data.Dataset.list_files(NEG+'/*.wav')"
      ]
    },
    {
      "cell_type": "code",
      "execution_count": 14,
      "metadata": {
        "colab": {
          "base_uri": "https://localhost:8080/"
        },
        "id": "QOIB0l-4ztjA",
        "outputId": "8978d521-f6bb-4c3b-b17c-b2973dd501d1"
      },
      "outputs": [
        {
          "output_type": "execute_result",
          "data": {
            "text/plain": [
              "b'/content/z-by-hp-unlocked-challenge-3-signal-processing/Parsed_Capuchinbird_Clips/XC3776-5.wav'"
            ]
          },
          "metadata": {},
          "execution_count": 14
        }
      ],
      "source": [
        "#so we just have the path of the files\n",
        "pos.as_numpy_iterator().next()"
      ]
    },
    {
      "cell_type": "markdown",
      "metadata": {
        "id": "omNUU-4xBvo-"
      },
      "source": [
        "# 3.3 Add labels and Combine Positive and Negative Samples"
      ]
    },
    {
      "cell_type": "code",
      "execution_count": 15,
      "metadata": {
        "id": "sn1n70OMBD5w"
      },
      "outputs": [],
      "source": [
        "#this just gonna put label for each voi, if it is pos then it's label gonna be one else zero\n",
        "positives = tf.data.Dataset.zip((pos, tf.data.Dataset.from_tensor_slices(tf.ones(len(pos)))))\n",
        "negatives = tf.data.Dataset.zip((neg, tf.data.Dataset.from_tensor_slices(tf.zeros(len(neg)))))\n",
        "data = positives.concatenate(negatives)"
      ]
    },
    {
      "cell_type": "code",
      "execution_count": 16,
      "metadata": {
        "colab": {
          "base_uri": "https://localhost:8080/"
        },
        "id": "N8T_kmsAB3qW",
        "outputId": "6909fc11-1c8a-45f9-d0aa-7bbadea64d75"
      },
      "outputs": [
        {
          "output_type": "execute_result",
          "data": {
            "text/plain": [
              "(b'/content/z-by-hp-unlocked-challenge-3-signal-processing/Parsed_Not_Capuchinbird_Clips/rain-thunder-and-crickets-sound-effect-43.wav',\n",
              " 0.0)"
            ]
          },
          "metadata": {},
          "execution_count": 16
        }
      ],
      "source": [
        "data.shuffle(1000).as_numpy_iterator().next()"
      ]
    },
    {
      "cell_type": "markdown",
      "metadata": {
        "id": "OOMRdu5nDynj"
      },
      "source": [
        "# 4. Determine Average Length of a Capuchin Call\n",
        "\n",
        "# 4.1 Calculate Wave Cycle Length "
      ]
    },
    {
      "cell_type": "code",
      "execution_count": null,
      "metadata": {
        "id": "RPRkmduEB4QW"
      },
      "outputs": [],
      "source": [
        "lengths = []\n",
        "for file in os.listdir(\"/content/z-by-hp-unlocked-challenge-3-signal-processing/Parsed_Capuchinbird_Clips\"):\n",
        "    tensor_wave = load_wav_16k_mono(os.path.join(\"/content/z-by-hp-unlocked-challenge-3-signal-processing/Parsed_Capuchinbird_Clips\", file))\n",
        "    lengths.append(len(tensor_wave))"
      ]
    },
    {
      "cell_type": "markdown",
      "metadata": {
        "id": "2G55c5DNcK67"
      },
      "source": [
        "# 4.2 Calculate Mean, Min and Max"
      ]
    },
    {
      "cell_type": "code",
      "execution_count": 18,
      "metadata": {
        "colab": {
          "base_uri": "https://localhost:8080/"
        },
        "id": "A4cAIs0SZ9UF",
        "outputId": "a773a9c1-5491-4d5b-ddfc-a9585a9fca4e"
      },
      "outputs": [
        {
          "output_type": "stream",
          "name": "stdout",
          "text": [
            "tf.Tensor(54156, shape=(), dtype=int32)\n",
            "tf.Tensor(32000, shape=(), dtype=int32)\n",
            "tf.Tensor(80000, shape=(), dtype=int32)\n"
          ]
        }
      ],
      "source": [
        "#so the mean is about 54156 waves so with 16000 H --- \n",
        "print(tf.math.reduce_mean(lengths))\n",
        "print(tf.math.reduce_min(lengths))\n",
        "print(tf.math.reduce_max(lengths))"
      ]
    },
    {
      "cell_type": "markdown",
      "metadata": {
        "id": "Gwlt9-vPfNBi"
      },
      "source": [
        "# 5. Build Preprocessing Function to Convert to Spectrogram\n",
        "# 5.1 Build Preprocessing Function"
      ]
    },
    {
      "cell_type": "code",
      "execution_count": 19,
      "metadata": {
        "id": "ch7iUhA_cYXv"
      },
      "outputs": [],
      "source": [
        "def preprocess(file_path, label): \n",
        "    wav = load_wav_16k_mono(file_path)\n",
        "    wav = wav[:48000]\n",
        "    zero_padding = tf.zeros([48000] - tf.shape(wav), dtype=tf.float32)\n",
        "    wav = tf.concat([zero_padding, wav],0)\n",
        "    #it give us short time  fourier transform  \n",
        "    spectrogram = tf.signal.stft(wav, frame_length=320, frame_step=32)\n",
        "    #remove the negative\n",
        "    spectrogram = tf.abs(spectrogram)\n",
        "    spectrogram = tf.expand_dims(spectrogram, axis=2)\n",
        "    return spectrogram, label"
      ]
    },
    {
      "cell_type": "markdown",
      "metadata": {
        "id": "ecomR2nQjuAF"
      },
      "source": [
        "# 5.2 Test Out the Function and Viz the Spectrogram"
      ]
    },
    {
      "cell_type": "code",
      "execution_count": null,
      "metadata": {
        "id": "JtcNnTcfjQ9l"
      },
      "outputs": [],
      "source": [
        "filepath, label = negatives.shuffle(buffer_size=10000).as_numpy_iterator().next()\n",
        "spectrogram, label = preprocess(filepath, label)"
      ]
    },
    {
      "cell_type": "code",
      "execution_count": 21,
      "metadata": {
        "colab": {
          "base_uri": "https://localhost:8080/",
          "height": 187
        },
        "id": "oSWwW_hYjzs8",
        "outputId": "58871bc8-073e-4a9b-fd5f-cdcf7f1764db"
      },
      "outputs": [
        {
          "output_type": "display_data",
          "data": {
            "text/plain": [
              "<Figure size 2160x1440 with 1 Axes>"
            ],
            "image/png": "[encoded data removed]"
          },
          "metadata": {
            "needs_background": "light"
          }
        }
      ],
      "source": [
        "plt.figure(figsize=(30,20))\n",
        "plt.imshow(tf.transpose(spectrogram)[0])\n",
        "plt.show()"
      ]
    },
    {
      "cell_type": "markdown",
      "metadata": {
        "id": "86l6nyuDqEAY"
      },
      "source": [
        "# 6. Create Training and Testing Partitions\n",
        "\n",
        "# 6.1 Create a Tensorflow Data Pipeline"
      ]
    },
    {
      "cell_type": "code",
      "execution_count": 22,
      "metadata": {
        "colab": {
          "base_uri": "https://localhost:8080/"
        },
        "id": "kMyuMeqkj2pr",
        "outputId": "f8e0f018-0781-4fe1-d0a2-32523587f3ba"
      },
      "outputs": [
        {
          "output_type": "stream",
          "name": "stderr",
          "text": [
            "WARNING:tensorflow:Using a while_loop for converting IO>AudioResample\n"
          ]
        }
      ],
      "source": [
        "data = data.map(preprocess)\n",
        "data = data.cache()\n",
        "data = data.shuffle(buffer_size=1000)\n",
        "data = data.batch(10)\n",
        "data = data.prefetch(8)"
      ]
    },
    {
      "cell_type": "markdown",
      "metadata": {
        "id": "uBfF5SMotMe_"
      },
      "source": [
        "# 6.2 Split into Training and Testing Partitions"
      ]
    },
    {
      "cell_type": "code",
      "execution_count": 23,
      "metadata": {
        "id": "cdKQzhulqKoD"
      },
      "outputs": [],
      "source": [
        "train = data.take(36)\n",
        "test = data.skip(36).take(15)"
      ]
    },
    {
      "cell_type": "markdown",
      "metadata": {
        "id": "_7cZGa_mtStc"
      },
      "source": [
        "# 6.3 Test One Batch"
      ]
    },
    {
      "cell_type": "code",
      "execution_count": 24,
      "metadata": {
        "id": "YjGeSfDvtPwi"
      },
      "outputs": [],
      "source": [
        "samples, labels = train.as_numpy_iterator().next()"
      ]
    },
    {
      "cell_type": "code",
      "execution_count": 25,
      "metadata": {
        "colab": {
          "base_uri": "https://localhost:8080/"
        },
        "id": "mRLt_dCytVox",
        "outputId": "b04c5438-29eb-4a0a-a075-6db60cdef736"
      },
      "outputs": [
        {
          "output_type": "execute_result",
          "data": {
            "text/plain": [
              "(10, 1491, 257, 1)"
            ]
          },
          "metadata": {},
          "execution_count": 25
        }
      ],
      "source": [
        "samples.shape"
      ]
    },
    {
      "cell_type": "markdown",
      "metadata": {
        "id": "y2lyYQmJt7Rk"
      },
      "source": [
        "# 7. Build Deep Learning Model\n",
        "\n",
        "# 7.1 Load Tensorflow Dependencies"
      ]
    },
    {
      "cell_type": "code",
      "execution_count": 26,
      "metadata": {
        "id": "Gsv-FXMTt6Yp"
      },
      "outputs": [],
      "source": [
        "from tensorflow.keras.models import Sequential\n",
        "from tensorflow.keras.layers import Conv2D, Dense, Flatten"
      ]
    },
    {
      "cell_type": "markdown",
      "metadata": {
        "id": "tz2KOV4_uEbe"
      },
      "source": [
        "# 7.2 Build Sequential Model, Compile and View Summary"
      ]
    },
    {
      "cell_type": "code",
      "execution_count": 27,
      "metadata": {
        "id": "6jy4DCXtuBpZ"
      },
      "outputs": [],
      "source": [
        "model = Sequential()\n",
        "model.add(Conv2D(10, (3,3), activation='relu', input_shape=(1491, 257,1)))\n",
        "model.add(Conv2D(10, (3,3), activation='relu'))\n",
        "model.add(Flatten())\n",
        "model.add(Dense(128, activation='relu'))\n",
        "model.add(Dense(1, activation='sigmoid'))"
      ]
    },
    {
      "cell_type": "code",
      "execution_count": 28,
      "metadata": {
        "id": "PmLn9TR9uIMG"
      },
      "outputs": [],
      "source": [
        "model.compile('Adam', loss='BinaryCrossentropy', metrics=[tf.keras.metrics.Recall(),tf.keras.metrics.Precision()])"
      ]
    },
    {
      "cell_type": "code",
      "execution_count": 29,
      "metadata": {
        "id": "fPZS286mwRVM",
        "colab": {
          "base_uri": "https://localhost:8080/"
        },
        "outputId": "5a16f660-5236-47ca-ebf3-e4ce7e66063e"
      },
      "outputs": [
        {
          "output_type": "stream",
          "name": "stdout",
          "text": [
            "Model: \"sequential\"\n",
            "_________________________________________________________________\n",
            " Layer (type)                Output Shape              Param #   \n",
            "=================================================================\n",
            " conv2d (Conv2D)             (None, 1489, 255, 10)     100       \n",
            "                                                                 \n",
            " conv2d_1 (Conv2D)           (None, 1487, 253, 10)     910       \n",
            "                                                                 \n",
            " flatten (Flatten)           (None, 3762110)           0         \n",
            "                                                                 \n",
            " dense (Dense)               (None, 128)               481550208 \n",
            "                                                                 \n",
            " dense_1 (Dense)             (None, 1)                 129       \n",
            "                                                                 \n",
            "=================================================================\n",
            "Total params: 481,551,347\n",
            "Trainable params: 481,551,347\n",
            "Non-trainable params: 0\n",
            "_________________________________________________________________\n"
          ]
        }
      ],
      "source": [
        "model.summary()"
      ]
    },
    {
      "cell_type": "markdown",
      "metadata": {
        "id": "OQYh1AyLwVpQ"
      },
      "source": [
        "# 7.3 Fit Model, View Loss and KPI Plots"
      ]
    },
    {
      "cell_type": "code",
      "execution_count": 30,
      "metadata": {
        "id": "pSZsNQq-wR5i",
        "colab": {
          "base_uri": "https://localhost:8080/"
        },
        "outputId": "d7b83955-2674-4366-a7d5-20a693919d0c"
      },
      "outputs": [
        {
          "output_type": "stream",
          "name": "stdout",
          "text": [
            "Epoch 1/4\n",
            "36/36 [==============================] - 19s 199ms/step - loss: 4.3956 - recall: 0.8571 - precision: 0.8125 - val_loss: 0.5115 - val_recall: 0.9048 - val_precision: 0.9500\n",
            "Epoch 2/4\n",
            "36/36 [==============================] - 7s 190ms/step - loss: 0.1926 - recall: 0.9583 - precision: 0.9583 - val_loss: 0.7931 - val_recall: 0.9189 - val_precision: 0.9714\n",
            "Epoch 3/4\n",
            "36/36 [==============================] - 7s 190ms/step - loss: 0.2927 - recall: 0.9438 - precision: 0.9767 - val_loss: 0.0190 - val_recall: 0.9487 - val_precision: 1.0000\n",
            "Epoch 4/4\n",
            "36/36 [==============================] - 7s 191ms/step - loss: 0.0247 - recall: 0.9899 - precision: 0.9800 - val_loss: 0.0027 - val_recall: 1.0000 - val_precision: 1.0000\n"
          ]
        }
      ],
      "source": [
        "hist = model.fit(train, epochs=4, validation_data=test)"
      ]
    },
    {
      "cell_type": "code",
      "execution_count": 31,
      "metadata": {
        "id": "XfXqmGwJwoEr",
        "colab": {
          "base_uri": "https://localhost:8080/",
          "height": 281
        },
        "outputId": "03cc40a1-9978-4a14-a294-53442ff11d62"
      },
      "outputs": [
        {
          "output_type": "display_data",
          "data": {
            "text/plain": [
              "<Figure size 432x288 with 1 Axes>"
            ],
            "image/png": "[encoded data removed]"
          },
          "metadata": {
            "needs_background": "light"
          }
        }
      ],
      "source": [
        "plt.title('Loss')\n",
        "plt.plot(hist.history['loss'], 'r')\n",
        "plt.plot(hist.history['val_loss'], 'b')\n",
        "plt.show()"
      ]
    },
    {
      "cell_type": "code",
      "source": [
        "plt.title('Precision')\n",
        "plt.plot(hist.history['precision'], 'r')\n",
        "plt.plot(hist.history['val_precision'], 'b')\n",
        "plt.show()\n"
      ],
      "metadata": {
        "colab": {
          "base_uri": "https://localhost:8080/",
          "height": 281
        },
        "id": "ke7R1tqqAS4F",
        "outputId": "29d2a25d-684d-4fc1-c1a7-0a4c128080b9"
      },
      "execution_count": 32,
      "outputs": [
        {
          "output_type": "display_data",
          "data": {
            "text/plain": [
              "<Figure size 432x288 with 1 Axes>"
            ],
            "image/png": "[encoded data removed]"
          },
          "metadata": {
            "needs_background": "light"
          }
        }
      ]
    },
    {
      "cell_type": "code",
      "source": [
        "plt.title('Recall')\n",
        "plt.plot(hist.history['recall'], 'r')\n",
        "plt.plot(hist.history['val_recall'], 'b')\n",
        "plt.show()"
      ],
      "metadata": {
        "colab": {
          "base_uri": "https://localhost:8080/",
          "height": 281
        },
        "id": "qR1v3SXPAdB_",
        "outputId": "9b200f9a-bd2e-4922-fd7d-9b945ea61f45"
      },
      "execution_count": 33,
      "outputs": [
        {
          "output_type": "display_data",
          "data": {
            "text/plain": [
              "<Figure size 432x288 with 1 Axes>"
            ],
            "image/png": "[encoded data removed]"
          },
          "metadata": {
            "needs_background": "light"
          }
        }
      ]
    },
    {
      "cell_type": "markdown",
      "source": [
        "# 8. Make a Prediction on a Single Clip\n",
        "# 8.1 Get One Batch and Make a Prediction"
      ],
      "metadata": {
        "id": "6x3rRaWOAiNv"
      }
    },
    {
      "cell_type": "code",
      "source": [
        "X_test, y_test = test.as_numpy_iterator().next()"
      ],
      "metadata": {
        "id": "zRPZhbKKAfvE"
      },
      "execution_count": 42,
      "outputs": []
    },
    {
      "cell_type": "code",
      "source": [
        "yhat = model.predict(X_test)"
      ],
      "metadata": {
        "id": "NUAC0ngPBbXX"
      },
      "execution_count": 43,
      "outputs": []
    },
    {
      "cell_type": "code",
      "source": [
        "yhat"
      ],
      "metadata": {
        "colab": {
          "base_uri": "https://localhost:8080/"
        },
        "id": "SEngCRd2BfJc",
        "outputId": "827191af-a0a3-48ae-f003-accc085a083d"
      },
      "execution_count": 44,
      "outputs": [
        {
          "output_type": "execute_result",
          "data": {
            "text/plain": [
              "array([[1.2843228e-03],\n",
              "       [1.0000000e+00],\n",
              "       [1.0000000e+00],\n",
              "       [5.2889717e-01],\n",
              "       [6.5624465e-07],\n",
              "       [3.0177107e-25],\n",
              "       [6.6089799e-12],\n",
              "       [1.2480835e-26],\n",
              "       [4.1673850e-10],\n",
              "       [9.4474830e-34]], dtype=float32)"
            ]
          },
          "metadata": {},
          "execution_count": 44
        }
      ]
    },
    {
      "cell_type": "markdown",
      "source": [
        "# 8.2 Convert Logits to Classes\n"
      ],
      "metadata": {
        "id": "neUxX3zPDJ1A"
      }
    },
    {
      "cell_type": "code",
      "source": [
        "yhat = [1 if prediction > 0.5 else 0 for prediction in yhat]"
      ],
      "metadata": {
        "id": "U6wmnNSfDMQw"
      },
      "execution_count": 45,
      "outputs": []
    },
    {
      "cell_type": "markdown",
      "source": [
        "Compare the clasess"
      ],
      "metadata": {
        "id": "6_vLOhMeEHfK"
      }
    },
    {
      "cell_type": "code",
      "source": [
        "yhat"
      ],
      "metadata": {
        "colab": {
          "base_uri": "https://localhost:8080/"
        },
        "id": "o4HZPqnSDOz4",
        "outputId": "f20b38a7-008e-4fb6-bfdc-c082416684dd"
      },
      "execution_count": 46,
      "outputs": [
        {
          "output_type": "execute_result",
          "data": {
            "text/plain": [
              "[0, 1, 1, 1, 0, 0, 0, 0, 0, 0]"
            ]
          },
          "metadata": {},
          "execution_count": 46
        }
      ]
    },
    {
      "cell_type": "code",
      "source": [
        "y_test.astype(int)"
      ],
      "metadata": {
        "colab": {
          "base_uri": "https://localhost:8080/"
        },
        "id": "QUqhW6THD3Xz",
        "outputId": "a00f86d5-0a2f-4d47-e5f4-228ad58fdf84"
      },
      "execution_count": 47,
      "outputs": [
        {
          "output_type": "execute_result",
          "data": {
            "text/plain": [
              "array([0, 1, 1, 1, 0, 0, 0, 0, 0, 0])"
            ]
          },
          "metadata": {},
          "execution_count": 47
        }
      ]
    },
    {
      "cell_type": "code",
      "source": [
        "tf.math.reduce_sum(yhat)"
      ],
      "metadata": {
        "colab": {
          "base_uri": "https://localhost:8080/"
        },
        "id": "x8BXHuaVDdFP",
        "outputId": "7087b3aa-464f-41ae-f578-eab226c35c70"
      },
      "execution_count": 48,
      "outputs": [
        {
          "output_type": "execute_result",
          "data": {
            "text/plain": [
              "<tf.Tensor: shape=(), dtype=int32, numpy=3>"
            ]
          },
          "metadata": {},
          "execution_count": 48
        }
      ]
    },
    {
      "cell_type": "code",
      "source": [
        "tf.math.reduce_sum(y_test)"
      ],
      "metadata": {
        "colab": {
          "base_uri": "https://localhost:8080/"
        },
        "id": "98kOhexrDpvq",
        "outputId": "e7403f04-5d60-4b64-bf4f-4c39037b8fc9"
      },
      "execution_count": 49,
      "outputs": [
        {
          "output_type": "execute_result",
          "data": {
            "text/plain": [
              "<tf.Tensor: shape=(), dtype=float32, numpy=3.0>"
            ]
          },
          "metadata": {},
          "execution_count": 49
        }
      ]
    },
    {
      "cell_type": "markdown",
      "source": [
        "# 9. Build Forest Parsing Functions\n",
        "# 9.1 Load up MP3s"
      ],
      "metadata": {
        "id": "yeOrTbBFBm76"
      }
    },
    {
      "cell_type": "code",
      "source": [
        "def load_mp3_16k_mono(filename):\n",
        "    \"\"\" Load a WAV file, convert it to a float tensor, resample to 16 kHz single-channel audio. \"\"\"\n",
        "    res = tfio.audio.AudioIOTensor(filename)\n",
        "    # Convert to tensor and combine channels \n",
        "    tensor = res.to_tensor()\n",
        "    tensor = tf.math.reduce_sum(tensor, axis=1) / 2 \n",
        "    # Extract sample rate and cast\n",
        "    sample_rate = res.rate\n",
        "    sample_rate = tf.cast(sample_rate, dtype=tf.int64)\n",
        "    # Resample to 16 kHz\n",
        "    wav = tfio.audio.resample(tensor, rate_in=sample_rate, rate_out=16000)\n",
        "    return wav"
      ],
      "metadata": {
        "id": "i5PCGnwRBisG"
      },
      "execution_count": 50,
      "outputs": []
    },
    {
      "cell_type": "code",
      "source": [
        "mp3 = os.path.join(\"/content/z-by-hp-unlocked-challenge-3-signal-processing/Forest Recordings/recording_00.mp3\")"
      ],
      "metadata": {
        "id": "gKijDBOKGL3A"
      },
      "execution_count": 51,
      "outputs": []
    },
    {
      "cell_type": "code",
      "source": [
        "wav = load_mp3_16k_mono(mp3)"
      ],
      "metadata": {
        "id": "-foFKdrhGXVg"
      },
      "execution_count": null,
      "outputs": []
    },
    {
      "cell_type": "code",
      "source": [
        "audio_slices = tf.keras.utils.timeseries_dataset_from_array(wav, wav, sequence_length=48000, sequence_stride=48000, batch_size=1)\n"
      ],
      "metadata": {
        "id": "FcA86ycdGYZs"
      },
      "execution_count": 53,
      "outputs": []
    },
    {
      "cell_type": "markdown",
      "source": [
        "- What we've done that we tooked a one full mp3 file and convert it to 60 window\n",
        "- We gonna take those windows and convert it to spectograme and loop through them all and make predictions"
      ],
      "metadata": {
        "id": "N23YaBXeGrUw"
      }
    },
    {
      "cell_type": "code",
      "source": [
        "len(audio_slices)"
      ],
      "metadata": {
        "id": "aGrkJoW0Gp1m"
      },
      "execution_count": null,
      "outputs": []
    },
    {
      "cell_type": "code",
      "source": [
        "samples, index = audio_slices.as_numpy_iterator().next()"
      ],
      "metadata": {
        "id": "Y12aE9MrGa5Z"
      },
      "execution_count": 54,
      "outputs": []
    },
    {
      "cell_type": "code",
      "source": [
        "samples.shape"
      ],
      "metadata": {
        "colab": {
          "base_uri": "https://localhost:8080/"
        },
        "id": "LWfpHOKCGdjo",
        "outputId": "25f1ac87-bfbe-4c6c-c252-e6c0e9d33b25"
      },
      "execution_count": 55,
      "outputs": [
        {
          "output_type": "execute_result",
          "data": {
            "text/plain": [
              "(1, 48000)"
            ]
          },
          "metadata": {},
          "execution_count": 55
        }
      ]
    },
    {
      "cell_type": "markdown",
      "source": [
        "# 9.2 Build Function to Convert Clips into Windowed Spectrograms"
      ],
      "metadata": {
        "id": "-cuomNweHYrm"
      }
    },
    {
      "cell_type": "code",
      "source": [
        "def preprocess_mp3(sample, index):\n",
        "    sample = sample[0]\n",
        "    zero_padding = tf.zeros([48000] - tf.shape(sample), dtype=tf.float32)\n",
        "    wav = tf.concat([zero_padding, sample],0)\n",
        "    spectrogram = tf.signal.stft(wav, frame_length=320, frame_step=32)\n",
        "    spectrogram = tf.abs(spectrogram)\n",
        "    spectrogram = tf.expand_dims(spectrogram, axis=2)\n",
        "    return spectrogram"
      ],
      "metadata": {
        "id": "3VbEh7YTGiFT"
      },
      "execution_count": 56,
      "outputs": []
    },
    {
      "cell_type": "markdown",
      "source": [
        "# 9.3 Convert Longer Clips into Windows and Make Predictions"
      ],
      "metadata": {
        "id": "SdG796nIHezG"
      }
    },
    {
      "cell_type": "code",
      "source": [
        "audio_slices = tf.keras.utils.timeseries_dataset_from_array(wav, wav, sequence_length=48000, sequence_stride=48000, batch_size=1)\n",
        "audio_slices = audio_slices.map(preprocess_mp3)\n",
        "audio_slices = audio_slices.batch(64)"
      ],
      "metadata": {
        "id": "2eBiiIdpHc56"
      },
      "execution_count": 60,
      "outputs": []
    },
    {
      "cell_type": "code",
      "source": [
        "yhat = model.predict(audio_slices)\n",
        "yhat = [1 if prediction > 0.99 else 0 for prediction in yhat]"
      ],
      "metadata": {
        "id": "h3pv4XteHim_"
      },
      "execution_count": 67,
      "outputs": []
    },
    {
      "cell_type": "code",
      "source": [
        "len(yhat)"
      ],
      "metadata": {
        "colab": {
          "base_uri": "https://localhost:8080/"
        },
        "id": "n4UPfBqOHmEN",
        "outputId": "3d2b2a9a-8ec0-41f7-9099-f09ab7c04a11"
      },
      "execution_count": 68,
      "outputs": [
        {
          "output_type": "execute_result",
          "data": {
            "text/plain": [
              "60"
            ]
          },
          "metadata": {},
          "execution_count": 68
        }
      ]
    },
    {
      "cell_type": "markdown",
      "source": [
        "# 9.4 Group Consecutive Detections\n"
      ],
      "metadata": {
        "id": "5x2XU3TYJGVG"
      }
    },
    {
      "cell_type": "code",
      "source": [
        "from itertools import groupby"
      ],
      "metadata": {
        "id": "WPRPtoy0IgGh"
      },
      "execution_count": 69,
      "outputs": []
    },
    {
      "cell_type": "code",
      "source": [
        "yhat = [key for key, group in groupby(yhat)]\n",
        "calls = tf.math.reduce_sum(yhat).numpy()"
      ],
      "metadata": {
        "id": "F3VJcLHyJKl_"
      },
      "execution_count": 70,
      "outputs": []
    },
    {
      "cell_type": "code",
      "source": [
        "calls"
      ],
      "metadata": {
        "colab": {
          "base_uri": "https://localhost:8080/"
        },
        "id": "uTZOhOiuJNcS",
        "outputId": "0e791231-8119-4062-9afa-7d2942189d87"
      },
      "execution_count": 71,
      "outputs": [
        {
          "output_type": "execute_result",
          "data": {
            "text/plain": [
              "5"
            ]
          },
          "metadata": {},
          "execution_count": 71
        }
      ]
    },
    {
      "cell_type": "markdown",
      "source": [
        "# 10. Make Predictions\n",
        "# 10.1 Loop over all recordings and make predictions"
      ],
      "metadata": {
        "id": "PQfTj06VJ955"
      }
    },
    {
      "cell_type": "code",
      "source": [
        "results = {}\n",
        "for file in os.listdir(os.path.join(\"/content/z-by-hp-unlocked-challenge-3-signal-processing/Forest Recordings\")):\n",
        "    FILEPATH = os.path.join(\"/content/z-by-hp-unlocked-challenge-3-signal-processing/Forest Recordings\", file)\n",
        "    \n",
        "    wav = load_mp3_16k_mono(FILEPATH)\n",
        "    audio_slices = tf.keras.utils.timeseries_dataset_from_array(wav, wav, sequence_length=48000, sequence_stride=48000, batch_size=1)\n",
        "    audio_slices = audio_slices.map(preprocess_mp3)\n",
        "    audio_slices = audio_slices.batch(64)\n",
        "    \n",
        "    yhat = model.predict(audio_slices)\n",
        "    \n",
        "    results[file] = yhat\n"
      ],
      "metadata": {
        "id": "-glthFS_JOlR"
      },
      "execution_count": null,
      "outputs": []
    },
    {
      "cell_type": "code",
      "source": [
        "results"
      ],
      "metadata": {
        "id": "U8KdNC_LKRZ0"
      },
      "execution_count": null,
      "outputs": []
    },
    {
      "cell_type": "markdown",
      "source": [
        "# 10.2 Convert Predictions into Classes"
      ],
      "metadata": {
        "id": "GGJzulGGLjdj"
      }
    },
    {
      "cell_type": "code",
      "source": [
        "class_preds = {}\n",
        "for file, logits in results.items():\n",
        "    class_preds[file] = [1 if prediction > 0.99 else 0 for prediction in logits]\n"
      ],
      "metadata": {
        "id": "Hsb7FJjnLkv1"
      },
      "execution_count": 75,
      "outputs": []
    },
    {
      "cell_type": "markdown",
      "source": [
        "# 10.3 Group Consecutive Detections"
      ],
      "metadata": {
        "id": "fXK5qB9XLnQc"
      }
    },
    {
      "cell_type": "code",
      "source": [
        "postprocessed = {}\n",
        "for file, scores in class_preds.items():\n",
        "    postprocessed[file] = tf.math.reduce_sum([key for key, group in groupby(scores)]).numpy()\n",
        "postprocessed"
      ],
      "metadata": {
        "id": "caBxH15aLmU7"
      },
      "execution_count": null,
      "outputs": []
    },
    {
      "cell_type": "markdown",
      "source": [
        "# 11. Export Results"
      ],
      "metadata": {
        "id": "drb3tuy3LvE5"
      }
    },
    {
      "cell_type": "code",
      "source": [
        "import csv\n",
        "with open('results.csv', 'w', newline='') as f:\n",
        "    writer = csv.writer(f, delimiter=',')\n",
        "    writer.writerow(['recording', 'capuchin_calls'])\n",
        "    for key, value in postprocessed.items():\n",
        "        writer.writerow([key, value])"
      ],
      "metadata": {
        "id": "DdJorKjTLsrc"
      },
      "execution_count": 76,
      "outputs": []
    },
    {
      "cell_type": "code",
      "source": [],
      "metadata": {
        "id": "fag-tTH8MJlA"
      },
      "execution_count": null,
      "outputs": []
    }
  ],
  "metadata": {
    "accelerator": "GPU",
    "colab": {
      "collapsed_sections": [],
      "provenance": []
    },
    "kernelspec": {
      "display_name": "Python 3",
      "name": "python3"
    },
    "language_info": {
      "name": "python"
    }
  },
  "nbformat": 4,
  "nbformat_minor": 0
}